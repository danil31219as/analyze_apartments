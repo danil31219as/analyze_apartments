{
  "nbformat": 4,
  "nbformat_minor": 0,
  "metadata": {
    "colab": {
      "name": "parsing_apartments.ipynb",
      "provenance": []
    },
    "kernelspec": {
      "name": "python3",
      "display_name": "Python 3"
    }
  },
  "cells": [
    {
      "cell_type": "code",
      "metadata": {
        "id": "-LQCCzPLNwWa"
      },
      "source": [
        "import requests\n",
        "from bs4 import BeautifulSoup"
      ],
      "execution_count": 2,
      "outputs": []
    },
    {
      "cell_type": "code",
      "metadata": {
        "id": "Yeark6JyN7iz"
      },
      "source": [
        "soup = BeautifulSoup(requests.get('http://shaldom.com/price_new/').text, 'html.parser')"
      ],
      "execution_count": 3,
      "outputs": []
    },
    {
      "cell_type": "code",
      "metadata": {
        "id": "vfALgBaOOJ3m"
      },
      "source": [
        "import pandas as pd"
      ],
      "execution_count": 5,
      "outputs": []
    },
    {
      "cell_type": "code",
      "metadata": {
        "id": "qH0yvjdDOv7N"
      },
      "source": [
        "import chardet"
      ],
      "execution_count": 23,
      "outputs": []
    },
    {
      "cell_type": "code",
      "metadata": {
        "id": "_W7ktyUwUUCM",
        "outputId": "b4592828-e2db-4627-967a-4652ab778155",
        "colab": {
          "base_uri": "https://localhost:8080/",
          "height": 35
        }
      },
      "source": [
        "chardet.detect(open('page_3.html', 'rb').read())['encoding']"
      ],
      "execution_count": 54,
      "outputs": [
        {
          "output_type": "execute_result",
          "data": {
            "application/vnd.google.colaboratory.intrinsic+json": {
              "type": "string"
            },
            "text/plain": [
              "'windows-1251'"
            ]
          },
          "metadata": {
            "tags": []
          },
          "execution_count": 54
        }
      ]
    },
    {
      "cell_type": "code",
      "metadata": {
        "id": "ban0SnIrOU0c"
      },
      "source": [
        "df = pd.DataFrame()"
      ],
      "execution_count": 90,
      "outputs": []
    },
    {
      "cell_type": "code",
      "metadata": {
        "id": "CjOEQTRFPgTI"
      },
      "source": [
        "for i in range(97):\n",
        "  print(i)\n",
        "  df = df.append(pd.read_html(f'page_{i}.html', encoding='windows-1251')[0].drop(['Выбрать'], axis=1), ignore_index=True)"
      ],
      "execution_count": null,
      "outputs": []
    },
    {
      "cell_type": "code",
      "metadata": {
        "id": "bcjbuetcXlNF"
      },
      "source": [
        "df.to_excel('shaldom.xlsx', index_label=False, index=False)"
      ],
      "execution_count": 93,
      "outputs": []
    },
    {
      "cell_type": "code",
      "metadata": {
        "id": "zA5KAQd2Z8Sh"
      },
      "source": [
        "for elem in list(df['Объект'].unique()):\n",
        "  print(elem)"
      ],
      "execution_count": null,
      "outputs": []
    },
    {
      "cell_type": "code",
      "metadata": {
        "id": "v7G2CsubbfpX"
      },
      "source": [
        "df_2 = pd.read_html('https://sknvek.ru/kvartiryi-v-prodazhe')"
      ],
      "execution_count": 75,
      "outputs": []
    },
    {
      "cell_type": "code",
      "metadata": {
        "id": "QtSPOg8CeN_I"
      },
      "source": [
        "df_2 = df_2[0]"
      ],
      "execution_count": 78,
      "outputs": []
    },
    {
      "cell_type": "code",
      "metadata": {
        "id": "mNr2zfgeePsr"
      },
      "source": [
        "df_2['Количество комнат']= df_2['Количество комнат'].apply(lambda x: x[0])"
      ],
      "execution_count": 80,
      "outputs": []
    },
    {
      "cell_type": "code",
      "metadata": {
        "id": "AbLjjCaOhyvU"
      },
      "source": [
        "df_2['Метраж'] = df_2['Метраж'].apply(lambda x: x.strip(' кв.м.'))"
      ],
      "execution_count": 83,
      "outputs": []
    },
    {
      "cell_type": "code",
      "metadata": {
        "id": "8ATE7Rb9h6qh"
      },
      "source": [
        "df_2.drop(['Unnamed: 4'], axis=1).to_excel('sknv.xlsx', index=False, index_label=False)"
      ],
      "execution_count": 86,
      "outputs": []
    },
    {
      "cell_type": "code",
      "metadata": {
        "id": "zdK_eS6riL4-"
      },
      "source": [
        "for elem in df_2['Жилой комплекс'].unique():\n",
        "  print(elem)"
      ],
      "execution_count": null,
      "outputs": []
    },
    {
      "cell_type": "code",
      "metadata": {
        "id": "phyGCKWEjsOj"
      },
      "source": [
        ""
      ],
      "execution_count": null,
      "outputs": []
    }
  ]
}